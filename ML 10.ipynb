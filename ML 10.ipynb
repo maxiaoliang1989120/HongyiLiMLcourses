{
 "cells": [
  {
   "cell_type": "markdown",
   "metadata": {},
   "source": [
    "# ML 10 CNN\n",
    "\n",
    "** Easier than DNN **\n",
    "Take out some parameters from DNN, then you get CNN!!\n",
    "\n",
    "## Why CNN for image?\n",
    "\n",
    "1. The neron does not need to see the whole image to discover the pattern.\n",
    "2. The same patterns appear in differnet regions. \n",
    "3. Subsamping the pixels will no tchange the object, make image smaller to reduce number of parameters.\n",
    "\n",
    "## The whole CNN\n",
    "\n",
    "Convolution -> Max Pooling -> Convolution -> Max Pooling ... Flatten -> Fully Connnectd Neron network.\n",
    "\n",
    "Filters are parameters to be learned. This step is convolution.\n",
    "Selected inputs and weights, not fully connetced.\n",
    "** Convolution **model2.add(Convolution2D(25,3,3,input_shape=(1,28,28))) 25 3x3 filters and 1:white/gray 28x28 pixels.\n",
    "<img src=\"CNN convolution.jpg\" width = \"400\" height = \"300\" alt=\"convolution\" align=center />\n",
    "\n",
    "** Max pooling** model2.add(MaxPooling2D((2,2))) 2x2 max pooling\n",
    "Find the max value in the pool.\n",
    "<img src=\"Max pooling.jpg\" width = \"400\" height = \"300\" alt=\"Max pooling\" align=center />\n",
    "** Repeat many times ** \n",
    "...\n",
    "Image becomes smaller and smaller!\n",
    "** Flatten **\n",
    "<img src=\"Flatten.jpg\" width = \"400\" height = \"300\" alt=\"Flatten\" align=center />\n",
    "\n"
   ]
  }
 ],
 "metadata": {
  "kernelspec": {
   "display_name": "Python 3",
   "language": "python",
   "name": "python3"
  },
  "language_info": {
   "codemirror_mode": {
    "name": "ipython",
    "version": 3
   },
   "file_extension": ".py",
   "mimetype": "text/x-python",
   "name": "python",
   "nbconvert_exporter": "python",
   "pygments_lexer": "ipython3",
   "version": "3.6.1"
  }
 },
 "nbformat": 4,
 "nbformat_minor": 2
}
