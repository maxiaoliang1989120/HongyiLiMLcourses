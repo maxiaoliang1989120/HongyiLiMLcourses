{
 "cells": [
  {
   "cell_type": "markdown",
   "metadata": {},
   "source": [
    "# Semi-Supervised learning\n",
    "**Has some labeled data (number=R), more unlabeled data (number=U), U>>R**\n",
    "\n",
    "## Why SemiSup. helps?\n",
    "** The distribution of the unlabled data tells us somethings\n",
    "\n",
    "## \n",
    " "
   ]
  }
 ],
 "metadata": {
  "kernelspec": {
   "display_name": "Python 3",
   "language": "python",
   "name": "python3"
  },
  "language_info": {
   "codemirror_mode": {
    "name": "ipython",
    "version": 3
   },
   "file_extension": ".py",
   "mimetype": "text/x-python",
   "name": "python",
   "nbconvert_exporter": "python",
   "pygments_lexer": "ipython3",
   "version": "3.6.1"
  }
 },
 "nbformat": 4,
 "nbformat_minor": 2
}
