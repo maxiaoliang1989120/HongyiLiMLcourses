{
 "cells": [
  {
   "cell_type": "markdown",
   "metadata": {},
   "source": [
    "# RNN gradient explode & gradient vanishing coexist\n",
    "\n",
    "node1->node2->node3->...->node1000 using weight 'w' to connect.\n",
    "if inut of node1 is k, and the other nodes input are 0\n",
    "then the output of node1000 should be w^999\n",
    "\n",
    "if w = 1, w^999 is 1\n",
    "if w = 1.01, w^999 is 2000    means gradient explode\n",
    "if w = 0.99, w^999 is 0\n",
    "if w = 0, w^999 is 0          means gradient vanishing\n",
    "\n",
    "## Helpful Techniques\n",
    "1. Long Short-term Memory (LSTM) :Can deal with gradient vanishing\n",
    "\n",
    "2. Limited gradient decent : Can deal with gradient explode.\n",
    "\n"
   ]
  }
 ],
 "metadata": {
  "kernelspec": {
   "display_name": "Python 3",
   "language": "python",
   "name": "python3"
  },
  "language_info": {
   "codemirror_mode": {
    "name": "ipython",
    "version": 3
   },
   "file_extension": ".py",
   "mimetype": "text/x-python",
   "name": "python",
   "nbconvert_exporter": "python",
   "pygments_lexer": "ipython3",
   "version": "3.6.1"
  }
 },
 "nbformat": 4,
 "nbformat_minor": 2
}
